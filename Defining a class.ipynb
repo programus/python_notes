{
 "cells": [
  {
   "cell_type": "markdown",
   "metadata": {},
   "source": [
    "# Defining a class "
   ]
  },
  {
   "cell_type": "markdown",
   "metadata": {},
   "source": [
    "## The Problem"
   ]
  },
  {
   "cell_type": "markdown",
   "metadata": {},
   "source": [
    "Create a new class `Fraction` to handle fractions (rational numbers), i.e., numbers in the form $x = n / d$ where $d\\neq0$. The class should have two integer attributes, `num` and `denom`, and two methods `tofloat()` and \n",
    "The class must implement the following methods:\n",
    "* `tofloat()` Returns the fl\u001d",
    "oating-point value of the fraction\n",
    "* `simplify()` Simpli\u001c",
    "es the fraction in place by dividing the numerator and the denominator by their greatest common divisor.\n",
    "* `__gcd()` Used by simplify. For private use in the class.\n",
    "\n",
    "Also, implement arithmetic with two `Fraction` objects by overridinig inherited methods."
   ]
  },
  {
   "cell_type": "markdown",
   "metadata": {},
   "source": [
    "## Definition and usage"
   ]
  },
  {
   "cell_type": "markdown",
   "metadata": {},
   "source": [
    "Start with the simplest definition."
   ]
  },
  {
   "cell_type": "code",
   "execution_count": 1,
   "metadata": {
    "collapsed": true
   },
   "outputs": [],
   "source": [
    "class Fraction:\n",
    "    def __init__(self, numerator, denominator):\n",
    "        self.num = numerator\n",
    "        self.denom = denominator"
   ]
  },
  {
   "cell_type": "code",
   "execution_count": 2,
   "metadata": {
    "collapsed": true
   },
   "outputs": [],
   "source": [
    "f = Fraction(4,5)"
   ]
  },
  {
   "cell_type": "code",
   "execution_count": 6,
   "metadata": {},
   "outputs": [
    {
     "data": {
      "text/plain": [
       "(4, 5)"
      ]
     },
     "execution_count": 6,
     "metadata": {},
     "output_type": "execute_result"
    }
   ],
   "source": [
    "f.num, f.denom"
   ]
  },
  {
   "cell_type": "markdown",
   "metadata": {},
   "source": [
    "The `__init__` method is common to all Python objects. It is the _constructor_ method, used for creating an instance of the class. The variable `f` is an instance of `Fraction`, representing 4/5.\n",
    "\n",
    "The `self` variable refers to the instance object (e.g. `f`) itself. Like the `this` variable in C++.\n",
    "\n",
    "Now add `tofloat()` method."
   ]
  },
  {
   "cell_type": "code",
   "execution_count": 7,
   "metadata": {
    "collapsed": true
   },
   "outputs": [],
   "source": [
    "class Fraction:\n",
    "    def __init__(self, numerator, denominator):\n",
    "        self.num = numerator\n",
    "        self.denom = denominator\n",
    "    def tofloat(self):\n",
    "        return float(self.num)/ float(self.denom)"
   ]
  },
  {
   "cell_type": "code",
   "execution_count": 10,
   "metadata": {},
   "outputs": [
    {
     "data": {
      "text/plain": [
       "0.23529411764705882"
      ]
     },
     "execution_count": 10,
     "metadata": {},
     "output_type": "execute_result"
    }
   ],
   "source": [
    "f = Fraction(4,17)\n",
    "f.tofloat()"
   ]
  },
  {
   "cell_type": "markdown",
   "metadata": {},
   "source": [
    "We need a way to simplify the fraction, and for that, we need to find the greatest common divisor of the numerator and denominator. A simple search yields the following algorithm:"
   ]
  },
  {
   "cell_type": "code",
   "execution_count": 11,
   "metadata": {
    "collapsed": true
   },
   "outputs": [],
   "source": [
    "def __gcd(a,b):\n",
    "    while b != 0:\n",
    "        a, b = b, a%b\n",
    "    return a"
   ]
  },
  {
   "cell_type": "code",
   "execution_count": 14,
   "metadata": {},
   "outputs": [
    {
     "data": {
      "text/plain": [
       "(2, 11, 1)"
      ]
     },
     "execution_count": 14,
     "metadata": {},
     "output_type": "execute_result"
    }
   ],
   "source": [
    "__gcd(4,6), __gcd(55,11), __gcd(3,17)"
   ]
  },
  {
   "cell_type": "markdown",
   "metadata": {},
   "source": [
    "So we improve our class definition with these functions. We also add _docstrings_ to the methods."
   ]
  },
  {
   "cell_type": "code",
   "execution_count": 21,
   "metadata": {},
   "outputs": [],
   "source": [
    "class Fraction:\n",
    "    def __init__(self, numerator, denominator):\n",
    "        self.num = numerator\n",
    "        self.denom = denominator\n",
    "    \n",
    "    def tofloat(self):\n",
    "        \"\"\"Return the floating-point value.\"\"\"\n",
    "        return float(self.num)/ float(self.denom)\n",
    "    \n",
    "    def __gcd(self,a,b):\n",
    "        while b != 0:\n",
    "            a, b = b, a%b\n",
    "        return a\n",
    "    \n",
    "    def simplify(self):\n",
    "        \"\"\"Simplify the fraction in place.\"\"\"\n",
    "        gcd = self.__gcd(self.num, self.denom)\n",
    "        self.num = int(self.num / gcd)\n",
    "        self.denom = int(self.denom /gcd)"
   ]
  },
  {
   "cell_type": "code",
   "execution_count": 22,
   "metadata": {},
   "outputs": [
    {
     "name": "stdout",
     "output_type": "stream",
     "text": [
      "15 5 3.0\n",
      "3 1 3.0\n"
     ]
    }
   ],
   "source": [
    "f = Fraction(15,5)\n",
    "print( f.num, f.denom, f.tofloat() )\n",
    "f.simplify()\n",
    "print( f.num, f.denom, f.tofloat() )"
   ]
  },
  {
   "cell_type": "markdown",
   "metadata": {},
   "source": [
    "The underscores make the `__gcd()` method (somewhat) hidden. In Python there are no really private members of classes. You can call `__gcd()` like any other method; however the underscores indicate that they are meant to be private, and usage is not recommended."
   ]
  },
  {
   "cell_type": "markdown",
   "metadata": {},
   "source": [
    "The `dir` function shows the variable names associated with an object."
   ]
  },
  {
   "cell_type": "code",
   "execution_count": 23,
   "metadata": {},
   "outputs": [
    {
     "data": {
      "text/plain": [
       "['_Fraction__gcd',\n",
       " '__class__',\n",
       " '__delattr__',\n",
       " '__dict__',\n",
       " '__dir__',\n",
       " '__doc__',\n",
       " '__eq__',\n",
       " '__format__',\n",
       " '__ge__',\n",
       " '__getattribute__',\n",
       " '__gt__',\n",
       " '__hash__',\n",
       " '__init__',\n",
       " '__le__',\n",
       " '__lt__',\n",
       " '__module__',\n",
       " '__ne__',\n",
       " '__new__',\n",
       " '__reduce__',\n",
       " '__reduce_ex__',\n",
       " '__repr__',\n",
       " '__setattr__',\n",
       " '__sizeof__',\n",
       " '__str__',\n",
       " '__subclasshook__',\n",
       " '__weakref__',\n",
       " 'simplify',\n",
       " 'tofloat']"
      ]
     },
     "execution_count": 23,
     "metadata": {},
     "output_type": "execute_result"
    }
   ],
   "source": [
    "dir(Fraction)"
   ]
  },
  {
   "cell_type": "markdown",
   "metadata": {},
   "source": [
    "All these names with two underscores on both sides are inherited from the base `object` class. By overloading them, we can make our `Fraction` class behave more like the built-in classes.\n",
    "\n",
    "We first override the following methods.\n",
    "\n",
    "* `__repr__` Code representation\n",
    "* `__str__` String representation\n",
    "* `__neg__` -a"
   ]
  },
  {
   "cell_type": "code",
   "execution_count": 26,
   "metadata": {
    "collapsed": true
   },
   "outputs": [],
   "source": [
    "class Fraction:\n",
    "    def __init__(self, numerator, denominator):\n",
    "        self.num = numerator\n",
    "        self.denom = denominator\n",
    "    \n",
    "    def tofloat(self):\n",
    "        \"\"\"Return the floating-point value.\"\"\"\n",
    "        return float(self.num)/ float(self.denom)\n",
    "    \n",
    "    def __gcd(self,a,b):\n",
    "        while b != 0:\n",
    "            a, b = b, a%b\n",
    "        return a\n",
    "    \n",
    "    def simplify(self):\n",
    "        \"\"\"Simplify the fraction in place.\"\"\"\n",
    "        gcd = self.__gcd(self.num, self.denom)\n",
    "        self.num = int(self.num / gcd)\n",
    "        self.denom = int(self.denom /gcd)\n",
    "    \n",
    "    def __str__(self):\n",
    "        return str(self.num)+\"/\"+str(self.denom)\n",
    "    \n",
    "    def __repr__(self):\n",
    "        return \"Fraction(\"+str(self.num)+\",\"+str(self.denom)+\")\"\n",
    "    \n",
    "    def __neg__(self):\n",
    "        return Fraction(-self.num, self.denom)"
   ]
  },
  {
   "cell_type": "code",
   "execution_count": 27,
   "metadata": {},
   "outputs": [
    {
     "data": {
      "text/plain": [
       "('4/18', 'Fraction(4,18)', Fraction(-4,18))"
      ]
     },
     "execution_count": 27,
     "metadata": {},
     "output_type": "execute_result"
    }
   ],
   "source": [
    "f = Fraction(4,18)\n",
    "str(f), repr(f), -f"
   ]
  },
  {
   "cell_type": "markdown",
   "metadata": {},
   "source": [
    "Now implement binary operators by overloading the following:\n",
    "\n",
    "* `__eq__` a == b\n",
    "* `__gt__` a > b\n",
    "* `__ge__` a >= b\n",
    "* `__add__` a + b\n",
    "* `__sub__` a - b\n",
    "* `__mul__` a * b\n",
    "* `__truediv__` a / b\n",
    "\n",
    "To avoid floating-point errors, we implement the calculations using integers only."
   ]
  },
  {
   "cell_type": "code",
   "execution_count": 40,
   "metadata": {
    "collapsed": true
   },
   "outputs": [],
   "source": [
    "class Fraction:\n",
    "    def __init__(self, numerator, denominator):\n",
    "        self.num = numerator\n",
    "        self.denom = denominator\n",
    "    \n",
    "    def tofloat(self):\n",
    "        \"\"\"Return the floating-point value.\"\"\"\n",
    "        return float(self.num)/ float(self.denom)\n",
    "    \n",
    "    def __gcd(self,a,b):\n",
    "        while b != 0:\n",
    "            a, b = b, a%b\n",
    "        return a\n",
    "    \n",
    "    def simplify(self):\n",
    "        \"\"\"Simplify the fraction in place.\"\"\"\n",
    "        gcd = self.__gcd(self.num, self.denom)\n",
    "        self.num = int(self.num / gcd)\n",
    "        self.denom = int(self.denom /gcd)\n",
    "    \n",
    "    def __str__(self):\n",
    "        return str(self.num)+\"/\"+str(self.denom)\n",
    "    \n",
    "    def __repr__(self):\n",
    "        return \"Fraction(\"+str(self.num)+\",\"+str(self.denom)+\")\"\n",
    "    \n",
    "    def __neg__(self):\n",
    "        return Fraction(-self.num, self.denom)\n",
    "    \n",
    "    def __eq__(self, other):\n",
    "        a = Fraction(self.num, self.denom)\n",
    "        a.simplify()\n",
    "        b = Fraction(other.num, other.denom)\n",
    "        b.simplify()\n",
    "        \n",
    "        return a.num == b.num and a.denom==b.denom\n",
    "    \n",
    "    def __gt__(self, other):\n",
    "        a = Fraction(self.num, self.denom)\n",
    "        a.simplify()\n",
    "        b = Fraction(other.num, other.denom)\n",
    "        b.simplify()\n",
    "        \n",
    "        return a.num*b.denom > b.num*a.denom\n",
    "    \n",
    "    def __ge__(self, other):\n",
    "        a = Fraction(self.num, self.denom)\n",
    "        a.simplify()\n",
    "        b = Fraction(other.num, other.denom)\n",
    "        b.simplify()\n",
    "        \n",
    "        return a.num*b.denom > b.num*a.denom\n",
    "    \n",
    "    def __add__(self, other):\n",
    "        f = Fraction(self.num*other.denom + other.num*self.denom, self.denom*other.denom)\n",
    "        f.simplify()\n",
    "        return f\n",
    "\n",
    "    def __sub__(self, other):\n",
    "        f = Fraction(self.num*other.denom - other.num*self.denom, self.denom*other.denom)\n",
    "        f.simplify()\n",
    "        return f \n",
    "    \n",
    "    def __mul__(self, other):\n",
    "        f = Fraction(self.num*other.num, self.denom*other.denom)\n",
    "        f.simplify()\n",
    "        return f\n",
    "\n",
    "    def __truediv__(self, other):\n",
    "        f = Fraction(self.num*other.denom, self.denom*other.num)\n",
    "        f.simplify()\n",
    "        return f\n"
   ]
  },
  {
   "cell_type": "code",
   "execution_count": 41,
   "metadata": {
    "collapsed": true
   },
   "outputs": [],
   "source": [
    "a = Fraction(3,5)\n",
    "b = Fraction(9,15)\n",
    "c = Fraction(4, 11)"
   ]
  },
  {
   "cell_type": "code",
   "execution_count": 42,
   "metadata": {},
   "outputs": [
    {
     "data": {
      "text/plain": [
       "(True, True, False)"
      ]
     },
     "execution_count": 42,
     "metadata": {},
     "output_type": "execute_result"
    }
   ],
   "source": [
    "a==b, a>c, a<c"
   ]
  },
  {
   "cell_type": "code",
   "execution_count": 44,
   "metadata": {},
   "outputs": [
    {
     "data": {
      "text/plain": [
       "(Fraction(6,5),\n",
       " Fraction(0,1),\n",
       " Fraction(12,55),\n",
       " Fraction(33,20),\n",
       " Fraction(20,33),\n",
       " Fraction(1,1))"
      ]
     },
     "execution_count": 44,
     "metadata": {},
     "output_type": "execute_result"
    }
   ],
   "source": [
    "a+b, a-b, a*c, a/c, c/a, a/b"
   ]
  },
  {
   "cell_type": "code",
   "execution_count": null,
   "metadata": {
    "collapsed": true
   },
   "outputs": [],
   "source": []
  }
 ],
 "metadata": {
  "anaconda-cloud": {},
  "kernelspec": {
   "display_name": "Python 3",
   "language": "python",
   "name": "python3"
  },
  "language_info": {
   "codemirror_mode": {
    "name": "ipython",
    "version": 3
   },
   "file_extension": ".py",
   "mimetype": "text/x-python",
   "name": "python",
   "nbconvert_exporter": "python",
   "pygments_lexer": "ipython3",
   "version": "3.6.3"
  }
 },
 "nbformat": 4,
 "nbformat_minor": 1
}
