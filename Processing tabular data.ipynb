{
 "cells": [
  {
   "cell_type": "markdown",
   "metadata": {},
   "source": [
    "# Processing tabular data files "
   ]
  },
  {
   "cell_type": "markdown",
   "metadata": {},
   "source": [
    "## The Problem"
   ]
  },
  {
   "cell_type": "markdown",
   "metadata": {},
   "source": [
    "A file holds the names and grades of a class of students for a particular class. The file contents are as follows:\n",
    "\n",
    "```\n",
    "name,midterm1,midterm2,final,quiz1,quiz2,quiz3,quiz4\n",
    "Harry Potter,67,87,45,3,6,8,6\n",
    "Ronald Weasley,34,65,56,2,3,1,7\n",
    "Hermione Granger,100,100,100,10,10,10,10\n",
    "Neville Longbottom,32,12,45,2,3,8,5\n",
    "```\n",
    "We will produce a new file with an added column `weighted_average`, and an added row `Average`.\n",
    "\n",
    "The weighted average for each student is evaluated as follows:\n",
    "* Midterms have a weight of 20% each.\n",
    "* Final has a weight of 40%.\n",
    "* Quizzes have a weight of 5% each.\n",
    "* Maximum grade is 10 for quizzes, 100 for others."
   ]
  },
  {
   "cell_type": "markdown",
   "metadata": {},
   "source": [
    "## The approach"
   ]
  },
  {
   "cell_type": "markdown",
   "metadata": {},
   "source": [
    "* Open the input file and discard the header line.\n",
    "* Open the output file for writing\n",
    "* For each line:\n",
    " * Read the grades.\n",
    " * Calculate the weighted average.\n",
    " * Output the record with the average added.\n",
    " * Update the running sums for column averages."
   ]
  },
  {
   "cell_type": "markdown",
   "metadata": {},
   "source": [
    "## Process one record"
   ]
  },
  {
   "cell_type": "markdown",
   "metadata": {},
   "source": [
    "Open the file and read the first record."
   ]
  },
  {
   "cell_type": "code",
   "execution_count": 1,
   "metadata": {
    "collapsed": true
   },
   "outputs": [],
   "source": [
    "fin = open(\"grades.txt\")"
   ]
  },
  {
   "cell_type": "code",
   "execution_count": 2,
   "metadata": {
    "collapsed": true
   },
   "outputs": [],
   "source": [
    "line = fin.readline()"
   ]
  },
  {
   "cell_type": "code",
   "execution_count": 3,
   "metadata": {},
   "outputs": [
    {
     "data": {
      "text/plain": [
       "'name,midterm1,midterm2,final,quiz1,quiz2,quiz3,quiz4\\n'"
      ]
     },
     "execution_count": 3,
     "metadata": {},
     "output_type": "execute_result"
    }
   ],
   "source": [
    "line"
   ]
  },
  {
   "cell_type": "code",
   "execution_count": 4,
   "metadata": {
    "collapsed": true
   },
   "outputs": [],
   "source": [
    "line = fin.readline()"
   ]
  },
  {
   "cell_type": "code",
   "execution_count": 5,
   "metadata": {},
   "outputs": [
    {
     "data": {
      "text/plain": [
       "'Harry Potter,67,87,45,3,6,8,6\\n'"
      ]
     },
     "execution_count": 5,
     "metadata": {},
     "output_type": "execute_result"
    }
   ],
   "source": [
    "line"
   ]
  },
  {
   "cell_type": "code",
   "execution_count": 28,
   "metadata": {
    "collapsed": true
   },
   "outputs": [],
   "source": [
    "fin.close()"
   ]
  },
  {
   "cell_type": "markdown",
   "metadata": {},
   "source": [
    "Using this line, we will figure out how to extract the grades and calculate the weighted average."
   ]
  },
  {
   "cell_type": "code",
   "execution_count": 8,
   "metadata": {},
   "outputs": [
    {
     "data": {
      "text/plain": [
       "'Harry Potter,67,87,45,3,6,8,6'"
      ]
     },
     "execution_count": 8,
     "metadata": {},
     "output_type": "execute_result"
    }
   ],
   "source": [
    "line.strip()"
   ]
  },
  {
   "cell_type": "code",
   "execution_count": 9,
   "metadata": {},
   "outputs": [
    {
     "data": {
      "text/plain": [
       "['Harry Potter', '67', '87', '45', '3', '6', '8', '6']"
      ]
     },
     "execution_count": 9,
     "metadata": {},
     "output_type": "execute_result"
    }
   ],
   "source": [
    "line.strip().split(\",\")"
   ]
  },
  {
   "cell_type": "code",
   "execution_count": 12,
   "metadata": {},
   "outputs": [
    {
     "data": {
      "text/plain": [
       "['67', '87', '45', '3', '6', '8', '6']"
      ]
     },
     "execution_count": 12,
     "metadata": {},
     "output_type": "execute_result"
    }
   ],
   "source": [
    "grades = line.strip().split(\",\") [1:]  # all but the first element\n",
    "grades"
   ]
  },
  {
   "cell_type": "markdown",
   "metadata": {},
   "source": [
    "The catch is that the grades are strings, and we need to convert them to numbers to do arithmetic on them. We use the `int()` function to do this."
   ]
  },
  {
   "cell_type": "code",
   "execution_count": 13,
   "metadata": {},
   "outputs": [
    {
     "data": {
      "text/plain": [
       "67"
      ]
     },
     "execution_count": 13,
     "metadata": {},
     "output_type": "execute_result"
    }
   ],
   "source": [
    "int(grades[0])"
   ]
  },
  {
   "cell_type": "markdown",
   "metadata": {},
   "source": [
    "To convert all elements to int, use the `map()` function."
   ]
  },
  {
   "cell_type": "code",
   "execution_count": 18,
   "metadata": {},
   "outputs": [
    {
     "data": {
      "text/plain": [
       "[67, 87, 45, 3, 6, 8, 6]"
      ]
     },
     "execution_count": 18,
     "metadata": {},
     "output_type": "execute_result"
    }
   ],
   "source": [
    "grades = list(map(int,grades))\n",
    "grades"
   ]
  },
  {
   "cell_type": "markdown",
   "metadata": {},
   "source": [
    "Calculate the weighted average (multiply quizzes by 10 to get a common scale)."
   ]
  },
  {
   "cell_type": "code",
   "execution_count": 21,
   "metadata": {},
   "outputs": [
    {
     "data": {
      "text/plain": [
       "60.300000000000004"
      ]
     },
     "execution_count": 21,
     "metadata": {},
     "output_type": "execute_result"
    }
   ],
   "source": [
    "wtavg = 0.2*grades[0] + 0.2*grades[1] + 0.4*grades[2] + 0.05*sum(10*grades[3:])\n",
    "wtavg"
   ]
  },
  {
   "cell_type": "markdown",
   "metadata": {},
   "source": [
    "print the new row."
   ]
  },
  {
   "cell_type": "code",
   "execution_count": 27,
   "metadata": {},
   "outputs": [
    {
     "name": "stdout",
     "output_type": "stream",
     "text": [
      "Harry Potter,67,87,45,3,6,8,6,60.300000000000004\n"
     ]
    }
   ],
   "source": [
    "print(line.strip()+\",\"+str(wtavg))"
   ]
  },
  {
   "cell_type": "markdown",
   "metadata": {},
   "source": [
    "Now we can apply this to all lines."
   ]
  },
  {
   "cell_type": "markdown",
   "metadata": {},
   "source": [
    "## Stage 1: Output file with personal averages only"
   ]
  },
  {
   "cell_type": "code",
   "execution_count": 1,
   "metadata": {},
   "outputs": [],
   "source": [
    "fin = open(\"grades.txt\")\n",
    "fout = open(\"gradestmp.txt\",\"w\")\n",
    "fin.readline()  # skip the header line\n",
    "for line in fin:\n",
    "    grades = list( map (int, line.strip().split(\",\") [1:]) ) \n",
    "    wtavg = 0.2*grades[0] + 0.2*grades[1] + 0.4*grades[2] + 0.05*sum(10*grades[3:])\n",
    "    fout.write(line.strip() + \",\" + str(wtavg) + \"\\n\")\n",
    "fin.close()\n",
    "fout.close()"
   ]
  },
  {
   "cell_type": "code",
   "execution_count": 2,
   "metadata": {},
   "outputs": [
    {
     "name": "stdout",
     "output_type": "stream",
     "text": [
      "Harry Potter,67,87,45,3,6,8,6,60.300000000000004\r\n",
      "Ronald Weasley,34,65,56,2,3,1,7,48.7\r\n",
      "Hermione Granger,100,100,100,10,10,10,10,100.0\r\n",
      "Neville Longbottom,32,12,45,2,3,8,5,35.8\r\n"
     ]
    }
   ],
   "source": [
    "%cat gradestmp.txt"
   ]
  },
  {
   "cell_type": "markdown",
   "metadata": {},
   "source": [
    "## Stage 2: Add column averages"
   ]
  },
  {
   "cell_type": "markdown",
   "metadata": {},
   "source": [
    "We also want to see the class-wide averages for each exam. To that end, we add one record to the bottom that contains the column averages.\n",
    "\n",
    "First, go over the data file and print the first midterm average."
   ]
  },
  {
   "cell_type": "code",
   "execution_count": 33,
   "metadata": {},
   "outputs": [
    {
     "name": "stdout",
     "output_type": "stream",
     "text": [
      "Midterm 1 average = 58.25\n"
     ]
    }
   ],
   "source": [
    "mt1_sum=0\n",
    "counter=0\n",
    "fin = open(\"grades.txt\")\n",
    "fin.readline()  # skip the header line\n",
    "for line in fin:\n",
    "    grades = list( map (int, line.strip().split(\",\") [1:]) )\n",
    "    mt1_sum += grades[0]\n",
    "    counter += 1\n",
    "print(\"Midterm 1 average =\",mt1_sum/counter)"
   ]
  },
  {
   "cell_type": "markdown",
   "metadata": {},
   "source": [
    "Check:"
   ]
  },
  {
   "cell_type": "code",
   "execution_count": 34,
   "metadata": {},
   "outputs": [
    {
     "data": {
      "text/plain": [
       "58.25"
      ]
     },
     "execution_count": 34,
     "metadata": {},
     "output_type": "execute_result"
    }
   ],
   "source": [
    "(67+34+100+32)/4"
   ]
  },
  {
   "cell_type": "markdown",
   "metadata": {},
   "source": [
    "Now apply to all columns. However, instead of defining seven different accumulator variables, we define one list with seven elements."
   ]
  },
  {
   "cell_type": "code",
   "execution_count": 36,
   "metadata": {},
   "outputs": [
    {
     "data": {
      "text/plain": [
       "[(0, 'a'), (1, 'b'), (2, 334), (3, 'asdfg')]"
      ]
     },
     "execution_count": 36,
     "metadata": {},
     "output_type": "execute_result"
    }
   ],
   "source": [
    "list(enumerate([\"a\",\"b\",334,\"asdfg\"]))"
   ]
  },
  {
   "cell_type": "code",
   "execution_count": 40,
   "metadata": {},
   "outputs": [
    {
     "name": "stdout",
     "output_type": "stream",
     "text": [
      "Average,58.25,66.0,61.5,4.25,5.5,6.75,7.0\n"
     ]
    }
   ],
   "source": [
    "sums =[0,0,0,0,0,0,0]\n",
    "fin = open(\"grades.txt\")\n",
    "fin.readline()  # skip the header line\n",
    "counter=0\n",
    "for line in fin:\n",
    "    grades = list( map (int, line.strip().split(\",\") [1:]) )\n",
    "    for i,g in enumerate(grades):\n",
    "        sums[i] += g\n",
    "    counter += 1\n",
    "# divide by the student count\n",
    "for i in range(len(sums)):\n",
    "    sums[i] /= counter\n",
    "fin.close()\n",
    "averages = \",\".join(map(str,sums))\n",
    "print(\"Average,\"+averages)"
   ]
  },
  {
   "cell_type": "markdown",
   "metadata": {},
   "source": [
    "Finally, combine the first and second stages; output to a file."
   ]
  },
  {
   "cell_type": "code",
   "execution_count": 3,
   "metadata": {
    "collapsed": true
   },
   "outputs": [],
   "source": [
    "fin = open(\"grades.txt\")\n",
    "fout = open(\"gradesaverages.txt\",\"w\")\n",
    "fin.readline()  # skip the header line\n",
    "sums = [0,0,0,0,0,0,0,0] # One more element, for wtavg\n",
    "counter = 0\n",
    "for line in fin:\n",
    "    grades = list( map (int, line.strip().split(\",\") [1:]) )\n",
    "    wtavg = 0.2*grades[0] + 0.2*grades[1] + 0.4*grades[2] + 0.05*sum(10*grades[3:])\n",
    "    fout.write(line.strip() + \",\" + str(wtavg) + \"\\n\")\n",
    "    # Column sums:\n",
    "    for i,g in enumerate(grades):\n",
    "        sums[i] += g\n",
    "    sums[-1] += wtavg\n",
    "    counter += 1\n",
    "fin.close()\n",
    "\n",
    "# Add the extra line\n",
    "for i in range(len(sums)):\n",
    "    sums[i] /= counter\n",
    "averages = \",\".join(map(str,sums))\n",
    "fout.write(\"Average,\"+averages+\"\\n\")\n",
    "fout.close()"
   ]
  },
  {
   "cell_type": "code",
   "execution_count": 4,
   "metadata": {},
   "outputs": [
    {
     "name": "stdout",
     "output_type": "stream",
     "text": [
      "Harry Potter,67,87,45,3,6,8,6,60.300000000000004\r\n",
      "Ronald Weasley,34,65,56,2,3,1,7,48.7\r\n",
      "Hermione Granger,100,100,100,10,10,10,10,100.0\r\n",
      "Neville Longbottom,32,12,45,2,3,8,5,35.8\r\n",
      "Average,58.25,66.0,61.5,4.25,5.5,6.75,7.0,61.2\r\n"
     ]
    }
   ],
   "source": [
    "%cat gradesaverages.txt"
   ]
  },
  {
   "cell_type": "code",
   "execution_count": null,
   "metadata": {
    "collapsed": true
   },
   "outputs": [],
   "source": []
  }
 ],
 "metadata": {
  "anaconda-cloud": {},
  "kernelspec": {
   "display_name": "Python 3",
   "language": "python",
   "name": "python3"
  },
  "language_info": {
   "codemirror_mode": {
    "name": "ipython",
    "version": 3
   },
   "file_extension": ".py",
   "mimetype": "text/x-python",
   "name": "python",
   "nbconvert_exporter": "python",
   "pygments_lexer": "ipython3",
   "version": "3.6.3"
  }
 },
 "nbformat": 4,
 "nbformat_minor": 1
}
