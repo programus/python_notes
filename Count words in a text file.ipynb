{
 "cells": [
  {
   "cell_type": "markdown",
   "metadata": {},
   "source": [
    "# Word statistics in a text file "
   ]
  },
  {
   "cell_type": "markdown",
   "metadata": {},
   "source": [
    "## The problem"
   ]
  },
  {
   "cell_type": "markdown",
   "metadata": {},
   "source": [
    "Consider a large body of text, such as a novel, or a collection of texts (aka a _corpus_). Record the frequency every word in the text. Display the most common words."
   ]
  },
  {
   "cell_type": "markdown",
   "metadata": {},
   "source": [
    "## The approach"
   ]
  },
  {
   "cell_type": "markdown",
   "metadata": {},
   "source": [
    "* Download a novel from [Gutenberg](http://www.gutenberg.org/) as a plain text file.\n",
    "* Remove all punctuation signs and convert all text to lowercase.\n",
    "* Use a dictionary to record the frequency of every word. The dictionary keys are the words, and values are how many times the word is seen in the text."
   ]
  },
  {
   "cell_type": "markdown",
   "metadata": {},
   "source": [
    "## Remove punctuation"
   ]
  },
  {
   "cell_type": "markdown",
   "metadata": {},
   "source": [
    "Choose [\"The Time Machine\"](http://www.gutenberg.org/cache/epub/35/pg35.txt) by H.G.Wells to investigate.\n",
    "\n",
    "Python allows us to work with trial-and-error, but a novel-size text is not convenient. First work with the first paragraph, then extend to the entire text."
   ]
  },
  {
   "cell_type": "code",
   "execution_count": 1,
   "metadata": {
    "collapsed": true
   },
   "outputs": [],
   "source": [
    "par = \"\"\"\n",
    "The Time Traveller (for so it will be convenient to speak of him)\n",
    "was expounding a recondite matter to us. His grey eyes shone and\n",
    "twinkled, and his usually pale face was flushed and animated. The\n",
    "fire burned brightly, and the soft radiance of the incandescent\n",
    "lights in the lilies of silver caught the bubbles that flashed and\n",
    "passed in our glasses. Our chairs, being his patents, embraced and\n",
    "caressed us rather than submitted to be sat upon, and there was that\n",
    "luxurious after-dinner atmosphere when thought roams gracefully\n",
    "free of the trammels of precision. And he put it to us in this\n",
    "way--marking the points with a lean forefinger--as we sat and lazily\n",
    "admired his earnestness over this new paradox (as we thought it)\n",
    "and his fecundity.\n",
    "\"\"\""
   ]
  },
  {
   "cell_type": "markdown",
   "metadata": {},
   "source": [
    "One way to remove punctuation signs is to split the text into words, and then use `strip` to remove the sign characters from either side of the word. Imperfect, but simple.\n",
    "\n",
    "We get a list of the punctuation signs from the `string` library."
   ]
  },
  {
   "cell_type": "code",
   "execution_count": 4,
   "metadata": {},
   "outputs": [
    {
     "data": {
      "text/plain": [
       "'!\"#$%&\\'()*+,-./:;<=>?@[\\\\]^_`{|}~'"
      ]
     },
     "execution_count": 4,
     "metadata": {},
     "output_type": "execute_result"
    }
   ],
   "source": [
    "import string\n",
    "string.punctuation"
   ]
  },
  {
   "cell_type": "code",
   "execution_count": 18,
   "metadata": {},
   "outputs": [
    {
     "data": {
      "text/plain": [
       "'\\nThe Time Traveller for so it will be convenient to speak of him\\nwas expounding a recondite matter to us His grey eyes shone and\\ntwinkled and his usually pale face was flushed and animated The\\nfire burned brightly and the soft radiance of the incandescent\\nlights in the lilies of silver caught the bubbles that flashed and\\npassed in our glasses Our chairs being his patents embraced and\\ncaressed us rather than submitted to be sat upon and there was that\\nluxurious afterdinner atmosphere when thought roams gracefully\\nfree of the trammels of precision And he put it to us in this\\nwaymarking the points with a lean forefingeras we sat and lazily\\nadmired his earnestness over this new paradox as we thought it\\nand his fecundity\\n'"
      ]
     },
     "execution_count": 18,
     "metadata": {},
     "output_type": "execute_result"
    }
   ],
   "source": [
    "translator = str.maketrans({key: None for key in string.punctuation})\n",
    "par.translate(translator)"
   ]
  },
  {
   "cell_type": "markdown",
   "metadata": {},
   "source": [
    "We don't worry about the newlines because they will go away with `split()`. Now count the occurrence of every word by going over the words."
   ]
  },
  {
   "cell_type": "code",
   "execution_count": 19,
   "metadata": {
    "collapsed": true
   },
   "outputs": [],
   "source": [
    "words = par.translate(translator).lower().split()"
   ]
  },
  {
   "cell_type": "code",
   "execution_count": 20,
   "metadata": {},
   "outputs": [
    {
     "data": {
      "text/plain": [
       "['the',\n",
       " 'time',\n",
       " 'traveller',\n",
       " 'for',\n",
       " 'so',\n",
       " 'it',\n",
       " 'will',\n",
       " 'be',\n",
       " 'convenient',\n",
       " 'to',\n",
       " 'speak',\n",
       " 'of',\n",
       " 'him',\n",
       " 'was',\n",
       " 'expounding',\n",
       " 'a',\n",
       " 'recondite',\n",
       " 'matter',\n",
       " 'to',\n",
       " 'us',\n",
       " 'his',\n",
       " 'grey',\n",
       " 'eyes',\n",
       " 'shone',\n",
       " 'and',\n",
       " 'twinkled',\n",
       " 'and',\n",
       " 'his',\n",
       " 'usually',\n",
       " 'pale',\n",
       " 'face',\n",
       " 'was',\n",
       " 'flushed',\n",
       " 'and',\n",
       " 'animated',\n",
       " 'the',\n",
       " 'fire',\n",
       " 'burned',\n",
       " 'brightly',\n",
       " 'and',\n",
       " 'the',\n",
       " 'soft',\n",
       " 'radiance',\n",
       " 'of',\n",
       " 'the',\n",
       " 'incandescent',\n",
       " 'lights',\n",
       " 'in',\n",
       " 'the',\n",
       " 'lilies',\n",
       " 'of',\n",
       " 'silver',\n",
       " 'caught',\n",
       " 'the',\n",
       " 'bubbles',\n",
       " 'that',\n",
       " 'flashed',\n",
       " 'and',\n",
       " 'passed',\n",
       " 'in',\n",
       " 'our',\n",
       " 'glasses',\n",
       " 'our',\n",
       " 'chairs',\n",
       " 'being',\n",
       " 'his',\n",
       " 'patents',\n",
       " 'embraced',\n",
       " 'and',\n",
       " 'caressed',\n",
       " 'us',\n",
       " 'rather',\n",
       " 'than',\n",
       " 'submitted',\n",
       " 'to',\n",
       " 'be',\n",
       " 'sat',\n",
       " 'upon',\n",
       " 'and',\n",
       " 'there',\n",
       " 'was',\n",
       " 'that',\n",
       " 'luxurious',\n",
       " 'afterdinner',\n",
       " 'atmosphere',\n",
       " 'when',\n",
       " 'thought',\n",
       " 'roams',\n",
       " 'gracefully',\n",
       " 'free',\n",
       " 'of',\n",
       " 'the',\n",
       " 'trammels',\n",
       " 'of',\n",
       " 'precision',\n",
       " 'and',\n",
       " 'he',\n",
       " 'put',\n",
       " 'it',\n",
       " 'to',\n",
       " 'us',\n",
       " 'in',\n",
       " 'this',\n",
       " 'waymarking',\n",
       " 'the',\n",
       " 'points',\n",
       " 'with',\n",
       " 'a',\n",
       " 'lean',\n",
       " 'forefingeras',\n",
       " 'we',\n",
       " 'sat',\n",
       " 'and',\n",
       " 'lazily',\n",
       " 'admired',\n",
       " 'his',\n",
       " 'earnestness',\n",
       " 'over',\n",
       " 'this',\n",
       " 'new',\n",
       " 'paradox',\n",
       " 'as',\n",
       " 'we',\n",
       " 'thought',\n",
       " 'it',\n",
       " 'and',\n",
       " 'his',\n",
       " 'fecundity']"
      ]
     },
     "execution_count": 20,
     "metadata": {},
     "output_type": "execute_result"
    }
   ],
   "source": [
    "words"
   ]
  },
  {
   "cell_type": "code",
   "execution_count": 21,
   "metadata": {
    "collapsed": true
   },
   "outputs": [],
   "source": [
    "frequency = {}  # empty dictionary\n",
    "for word in words:\n",
    "    if word not in frequency:\n",
    "        frequency[word] = 1\n",
    "    else:\n",
    "        frequency[word] += 1"
   ]
  },
  {
   "cell_type": "code",
   "execution_count": 22,
   "metadata": {},
   "outputs": [
    {
     "data": {
      "text/plain": [
       "{'a': 2,\n",
       " 'admired': 1,\n",
       " 'afterdinner': 1,\n",
       " 'and': 10,\n",
       " 'animated': 1,\n",
       " 'as': 1,\n",
       " 'atmosphere': 1,\n",
       " 'be': 2,\n",
       " 'being': 1,\n",
       " 'brightly': 1,\n",
       " 'bubbles': 1,\n",
       " 'burned': 1,\n",
       " 'caressed': 1,\n",
       " 'caught': 1,\n",
       " 'chairs': 1,\n",
       " 'convenient': 1,\n",
       " 'earnestness': 1,\n",
       " 'embraced': 1,\n",
       " 'expounding': 1,\n",
       " 'eyes': 1,\n",
       " 'face': 1,\n",
       " 'fecundity': 1,\n",
       " 'fire': 1,\n",
       " 'flashed': 1,\n",
       " 'flushed': 1,\n",
       " 'for': 1,\n",
       " 'forefingeras': 1,\n",
       " 'free': 1,\n",
       " 'glasses': 1,\n",
       " 'gracefully': 1,\n",
       " 'grey': 1,\n",
       " 'he': 1,\n",
       " 'him': 1,\n",
       " 'his': 5,\n",
       " 'in': 3,\n",
       " 'incandescent': 1,\n",
       " 'it': 3,\n",
       " 'lazily': 1,\n",
       " 'lean': 1,\n",
       " 'lights': 1,\n",
       " 'lilies': 1,\n",
       " 'luxurious': 1,\n",
       " 'matter': 1,\n",
       " 'new': 1,\n",
       " 'of': 5,\n",
       " 'our': 2,\n",
       " 'over': 1,\n",
       " 'pale': 1,\n",
       " 'paradox': 1,\n",
       " 'passed': 1,\n",
       " 'patents': 1,\n",
       " 'points': 1,\n",
       " 'precision': 1,\n",
       " 'put': 1,\n",
       " 'radiance': 1,\n",
       " 'rather': 1,\n",
       " 'recondite': 1,\n",
       " 'roams': 1,\n",
       " 'sat': 2,\n",
       " 'shone': 1,\n",
       " 'silver': 1,\n",
       " 'so': 1,\n",
       " 'soft': 1,\n",
       " 'speak': 1,\n",
       " 'submitted': 1,\n",
       " 'than': 1,\n",
       " 'that': 2,\n",
       " 'the': 8,\n",
       " 'there': 1,\n",
       " 'this': 2,\n",
       " 'thought': 2,\n",
       " 'time': 1,\n",
       " 'to': 4,\n",
       " 'trammels': 1,\n",
       " 'traveller': 1,\n",
       " 'twinkled': 1,\n",
       " 'upon': 1,\n",
       " 'us': 3,\n",
       " 'usually': 1,\n",
       " 'was': 3,\n",
       " 'waymarking': 1,\n",
       " 'we': 2,\n",
       " 'when': 1,\n",
       " 'will': 1,\n",
       " 'with': 1}"
      ]
     },
     "execution_count": 22,
     "metadata": {},
     "output_type": "execute_result"
    }
   ],
   "source": [
    "frequency"
   ]
  },
  {
   "cell_type": "markdown",
   "metadata": {},
   "source": [
    "Now we apply this to the entire text."
   ]
  },
  {
   "cell_type": "markdown",
   "metadata": {},
   "source": [
    "## Read file and count all words"
   ]
  },
  {
   "cell_type": "code",
   "execution_count": 24,
   "metadata": {},
   "outputs": [],
   "source": [
    "fin = open(\"pg35.txt\")\n",
    "frequency = {}\n",
    "# Read file line by line\n",
    "for line in fin:\n",
    "    words = line.translate(translator).lower().split()\n",
    "    for word in words:\n",
    "        if word not in frequency:\n",
    "            frequency[word] = 1\n",
    "        else:\n",
    "            frequency[word] += 1\n",
    "fin.close()"
   ]
  },
  {
   "cell_type": "markdown",
   "metadata": {},
   "source": [
    "To get the most common words, we need to sort the results. Dictionaries do not support sorting, so we work with a list of key-value pairs.\n",
    "\n",
    "The `items` method of a dictionary returns the list of its key-value pairs.  The `sorted` function returns a new sorted list. We sort by the second element, in reverse."
   ]
  },
  {
   "cell_type": "code",
   "execution_count": 28,
   "metadata": {},
   "outputs": [
    {
     "data": {
      "text/plain": [
       "[('the', 2431),\n",
       " ('and', 1298),\n",
       " ('of', 1268),\n",
       " ('i', 1241),\n",
       " ('a', 860),\n",
       " ('to', 758),\n",
       " ('in', 598),\n",
       " ('was', 549),\n",
       " ('that', 451),\n",
       " ('my', 438),\n",
       " ('it', 431),\n",
       " ('had', 352),\n",
       " ('me', 280),\n",
       " ('as', 275),\n",
       " ('with', 262),\n",
       " ('at', 257),\n",
       " ('for', 242),\n",
       " ('but', 205),\n",
       " ('time', 201),\n",
       " ('you', 201),\n",
       " ('this', 198),\n",
       " ('or', 159),\n",
       " ('were', 157),\n",
       " ('on', 148),\n",
       " ('from', 137),\n",
       " ('not', 135),\n",
       " ('all', 133),\n",
       " ('then', 132),\n",
       " ('is', 129),\n",
       " ('his', 129)]"
      ]
     },
     "execution_count": 28,
     "metadata": {},
     "output_type": "execute_result"
    }
   ],
   "source": [
    "frequency.items()\n",
    "sorted(frequency.items(), key=lambda x: x[1], reverse=True)[:30]"
   ]
  },
  {
   "cell_type": "markdown",
   "metadata": {},
   "source": [
    "According to the [word ranking list in Wikipedia](https://en.wikipedia.org/wiki/Most_common_words_in_English), \"time\" is the 55th most common word. Here, it is the 19th. After all, this is a novel about a time machine."
   ]
  },
  {
   "cell_type": "code",
   "execution_count": null,
   "metadata": {
    "collapsed": true
   },
   "outputs": [],
   "source": []
  }
 ],
 "metadata": {
  "anaconda-cloud": {},
  "kernelspec": {
   "display_name": "Python 3",
   "language": "python",
   "name": "python3"
  },
  "language_info": {
   "codemirror_mode": {
    "name": "ipython",
    "version": 3
   },
   "file_extension": ".py",
   "mimetype": "text/x-python",
   "name": "python",
   "nbconvert_exporter": "python",
   "pygments_lexer": "ipython3",
   "version": "3.6.3"
  }
 },
 "nbformat": 4,
 "nbformat_minor": 1
}
