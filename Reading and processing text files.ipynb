{
 "cells": [
  {
   "cell_type": "markdown",
   "metadata": {},
   "source": [
    "# Reading and processing text files"
   ]
  },
  {
   "cell_type": "markdown",
   "metadata": {},
   "source": [
    "##  The Problem"
   ]
  },
  {
   "cell_type": "markdown",
   "metadata": {},
   "source": [
    "\n",
    "We have a file of records that contains the following text:\n",
    "\n",
    "```\n",
    "A. Meral Demirci,(216) 373 81 94,meral@demirci.com\n",
    "Harry Potter,(532) 532 5325,potter@hogwarts.edu\n",
    "Mehmet Cengiz Kemal Ekinci,(216) 123 45 67,mcke@yahoo.com\n",
    "```\n",
    "and we want to convert the text to the following format:\n",
    "\n",
    "```\n",
    "Demirci, A. Meral\n",
    "Phone: (216) 373 81 94\n",
    "e-mail: meral@demirci.com\n",
    "\n",
    "Potter, Harry\n",
    "Phone: (532) 532 5325\n",
    "e-mail: potter@hogwarts.edu\n",
    "\n",
    "Ekinci, Mehmet Cengiz Kemal\n",
    "Phone: (216) 123 45 67\n",
    "e-mail: mcke@yahoo.com\n",
    "```"
   ]
  },
  {
   "cell_type": "markdown",
   "metadata": {},
   "source": [
    "We need to:\n",
    "* Open a text file for reading.\n",
    "* Open another text file for writing.\n",
    "* For each line in input file:\n",
    " * Read each line.\n",
    " * Extract the data fields from the line.\n",
    " * Rearrange the output.\n",
    " * Write to the output file."
   ]
  },
  {
   "cell_type": "markdown",
   "metadata": {},
   "source": [
    "## Opening and reading text files"
   ]
  },
  {
   "cell_type": "code",
   "execution_count": 1,
   "metadata": {
    "collapsed": true
   },
   "outputs": [],
   "source": [
    "fin = open(\"contacts.txt\",mode=\"r\")  # open for reading"
   ]
  },
  {
   "cell_type": "markdown",
   "metadata": {},
   "source": [
    "Alternative values for `mode`:\n",
    "* `\"rb\"` : Binary read mode\n",
    "* `\"w\"` : Text write mode\n",
    "* `\"wb\"` : Binary write mode\n",
    "* `\"a\"` : Text append mode\n",
    "* `\"ab\"` : Binary append mode"
   ]
  },
  {
   "cell_type": "markdown",
   "metadata": {},
   "source": [
    "The `read()` method returns the entire contents as a text string."
   ]
  },
  {
   "cell_type": "code",
   "execution_count": 2,
   "metadata": {
    "collapsed": false
   },
   "outputs": [
    {
     "data": {
      "text/plain": [
       "'A. Meral Demirci,(216) 373 81 94,meral@demirci.com\\nHarry Potter,(532) 532 5325,potter@hogwarts.edu\\nMehmet Cengiz Kemal Ekinci,(216) 123 45 67,mcke@yahoo.com\\n'"
      ]
     },
     "execution_count": 2,
     "metadata": {},
     "output_type": "execute_result"
    }
   ],
   "source": [
    "fin.read()"
   ]
  },
  {
   "cell_type": "code",
   "execution_count": 3,
   "metadata": {
    "collapsed": false
   },
   "outputs": [],
   "source": [
    "fin.close()\n",
    "fin = open(\"contacts.txt\",mode=\"r\")"
   ]
  },
  {
   "cell_type": "markdown",
   "metadata": {},
   "source": [
    "The `readline()` method reads each line consecutively."
   ]
  },
  {
   "cell_type": "code",
   "execution_count": 4,
   "metadata": {
    "collapsed": false
   },
   "outputs": [
    {
     "data": {
      "text/plain": [
       "'A. Meral Demirci,(216) 373 81 94,meral@demirci.com\\n'"
      ]
     },
     "execution_count": 4,
     "metadata": {},
     "output_type": "execute_result"
    }
   ],
   "source": [
    "fin.readline()"
   ]
  },
  {
   "cell_type": "code",
   "execution_count": 5,
   "metadata": {
    "collapsed": false
   },
   "outputs": [
    {
     "data": {
      "text/plain": [
       "'Harry Potter,(532) 532 5325,potter@hogwarts.edu\\n'"
      ]
     },
     "execution_count": 5,
     "metadata": {},
     "output_type": "execute_result"
    }
   ],
   "source": [
    "fin.readline()"
   ]
  },
  {
   "cell_type": "code",
   "execution_count": 6,
   "metadata": {
    "collapsed": false
   },
   "outputs": [
    {
     "data": {
      "text/plain": [
       "'Mehmet Cengiz Kemal Ekinci,(216) 123 45 67,mcke@yahoo.com\\n'"
      ]
     },
     "execution_count": 6,
     "metadata": {},
     "output_type": "execute_result"
    }
   ],
   "source": [
    "fin.readline()"
   ]
  },
  {
   "cell_type": "code",
   "execution_count": 7,
   "metadata": {
    "collapsed": false
   },
   "outputs": [
    {
     "data": {
      "text/plain": [
       "''"
      ]
     },
     "execution_count": 7,
     "metadata": {},
     "output_type": "execute_result"
    }
   ],
   "source": [
    "fin.readline()"
   ]
  },
  {
   "cell_type": "markdown",
   "metadata": {},
   "source": [
    "One way to iterate over the lines"
   ]
  },
  {
   "cell_type": "code",
   "execution_count": 8,
   "metadata": {
    "collapsed": false
   },
   "outputs": [
    {
     "name": "stdout",
     "output_type": "stream",
     "text": [
      "A. Meral Demirci,(216) 373 81 94,meral@demirci.com\n",
      "\n",
      "Harry Potter,(532) 532 5325,potter@hogwarts.edu\n",
      "\n",
      "Mehmet Cengiz Kemal Ekinci,(216) 123 45 67,mcke@yahoo.com\n",
      "\n"
     ]
    }
   ],
   "source": [
    "fin.close()\n",
    "fin = open(\"contacts.txt\",mode=\"r\")\n",
    "line=fin.readline()\n",
    "while line:\n",
    "    print(line)\n",
    "    line=fin.readline()\n",
    "fin.close()"
   ]
  },
  {
   "cell_type": "markdown",
   "metadata": {},
   "source": [
    "A better (Pythonic) way to iterate over the lines:"
   ]
  },
  {
   "cell_type": "code",
   "execution_count": 9,
   "metadata": {
    "collapsed": false
   },
   "outputs": [
    {
     "name": "stdout",
     "output_type": "stream",
     "text": [
      "A. Meral Demirci,(216) 373 81 94,meral@demirci.com\n",
      "\n",
      "Harry Potter,(532) 532 5325,potter@hogwarts.edu\n",
      "\n",
      "Mehmet Cengiz Kemal Ekinci,(216) 123 45 67,mcke@yahoo.com\n",
      "\n"
     ]
    }
   ],
   "source": [
    "fin=open(\"contacts.txt\",\"r\")\n",
    "for line in fin:\n",
    "    print(line)\n",
    "fin.close()"
   ]
  },
  {
   "cell_type": "markdown",
   "metadata": {},
   "source": [
    "## Writing text to a file"
   ]
  },
  {
   "cell_type": "code",
   "execution_count": 10,
   "metadata": {
    "collapsed": true
   },
   "outputs": [],
   "source": [
    "fout = open(\"output.txt\",\"w\")  # overwrites existing content\n",
    "fout.write(\"One ring to rule them all\\n\")\n",
    "fout.write(\"One ring to find them\\n\")\n",
    "fout.close()"
   ]
  },
  {
   "cell_type": "code",
   "execution_count": 11,
   "metadata": {
    "collapsed": true
   },
   "outputs": [],
   "source": [
    "fout = open(\"output.txt\",\"a\")  # appends to the end of file\n",
    "fout.write(\"One ring to bring them all\\n\")\n",
    "fout.write(\"And in the darkness bind them.\\n\")\n",
    "fout.close()"
   ]
  },
  {
   "cell_type": "markdown",
   "metadata": {},
   "source": [
    "## Separate the data fields"
   ]
  },
  {
   "cell_type": "code",
   "execution_count": 12,
   "metadata": {
    "collapsed": false
   },
   "outputs": [
    {
     "data": {
      "text/plain": [
       "'Mehmet Cengiz Kemal Ekinci,(216) 123 45 67,mcke@yahoo.com\\n'"
      ]
     },
     "execution_count": 12,
     "metadata": {},
     "output_type": "execute_result"
    }
   ],
   "source": [
    "line"
   ]
  },
  {
   "cell_type": "code",
   "execution_count": 13,
   "metadata": {
    "collapsed": false
   },
   "outputs": [
    {
     "data": {
      "text/plain": [
       "['Mehmet Cengiz Kemal Ekinci', '(216) 123 45 67', 'mcke@yahoo.com\\n']"
      ]
     },
     "execution_count": 13,
     "metadata": {},
     "output_type": "execute_result"
    }
   ],
   "source": [
    "line.split(\",\")"
   ]
  },
  {
   "cell_type": "code",
   "execution_count": 14,
   "metadata": {
    "collapsed": true
   },
   "outputs": [],
   "source": [
    "fullname, phone, email = line.split(\",\")"
   ]
  },
  {
   "cell_type": "code",
   "execution_count": 29,
   "metadata": {
    "collapsed": false
   },
   "outputs": [
    {
     "data": {
      "text/plain": [
       "'Mehmet Cengiz Kemal Ekinci'"
      ]
     },
     "execution_count": 29,
     "metadata": {},
     "output_type": "execute_result"
    }
   ],
   "source": [
    "fullname"
   ]
  },
  {
   "cell_type": "code",
   "execution_count": 30,
   "metadata": {
    "collapsed": false
   },
   "outputs": [
    {
     "data": {
      "text/plain": [
       "'(216) 123 45 67'"
      ]
     },
     "execution_count": 30,
     "metadata": {},
     "output_type": "execute_result"
    }
   ],
   "source": [
    "phone"
   ]
  },
  {
   "cell_type": "code",
   "execution_count": 31,
   "metadata": {
    "collapsed": false
   },
   "outputs": [
    {
     "data": {
      "text/plain": [
       "'mcke@yahoo.com\\n'"
      ]
     },
     "execution_count": 31,
     "metadata": {},
     "output_type": "execute_result"
    }
   ],
   "source": [
    "email"
   ]
  },
  {
   "cell_type": "code",
   "execution_count": 15,
   "metadata": {
    "collapsed": false
   },
   "outputs": [
    {
     "data": {
      "text/plain": [
       "'mcke@yahoo.com'"
      ]
     },
     "execution_count": 15,
     "metadata": {},
     "output_type": "execute_result"
    }
   ],
   "source": [
    "email.strip()"
   ]
  },
  {
   "cell_type": "markdown",
   "metadata": {},
   "source": [
    "Now bring the fields together in a new string:"
   ]
  },
  {
   "cell_type": "code",
   "execution_count": 16,
   "metadata": {
    "collapsed": false
   },
   "outputs": [
    {
     "name": "stdout",
     "output_type": "stream",
     "text": [
      "Mehmet Cengiz Kemal Ekinci\n",
      "Phone: (216) 123 45 67\n",
      "e-mail: mcke@yahoo.com\n",
      "\n"
     ]
    }
   ],
   "source": [
    "print(fullname+\"\\n\"+\"Phone: \"+phone+\"\\n\"+\"e-mail: \"+email.strip()+\"\\n\")"
   ]
  },
  {
   "cell_type": "markdown",
   "metadata": {},
   "source": [
    "The name is not in the form we want. We need another splitting of the name string, and put the last word first."
   ]
  },
  {
   "cell_type": "code",
   "execution_count": 36,
   "metadata": {
    "collapsed": false
   },
   "outputs": [
    {
     "data": {
      "text/plain": [
       "['Mehmet', 'Cengiz', 'Kemal', 'Ekinci']"
      ]
     },
     "execution_count": 36,
     "metadata": {},
     "output_type": "execute_result"
    }
   ],
   "source": [
    "fullname.split()"
   ]
  },
  {
   "cell_type": "code",
   "execution_count": 37,
   "metadata": {
    "collapsed": true
   },
   "outputs": [],
   "source": [
    "lastname = fullname.split()[-1]  # the last element of the list\n",
    "firstnames = fullname.split()[:-1]  # all but the last element of the list"
   ]
  },
  {
   "cell_type": "code",
   "execution_count": 39,
   "metadata": {
    "collapsed": false
   },
   "outputs": [
    {
     "data": {
      "text/plain": [
       "['Mehmet', 'Cengiz', 'Kemal']"
      ]
     },
     "execution_count": 39,
     "metadata": {},
     "output_type": "execute_result"
    }
   ],
   "source": [
    "firstnames"
   ]
  },
  {
   "cell_type": "code",
   "execution_count": 40,
   "metadata": {
    "collapsed": false
   },
   "outputs": [
    {
     "data": {
      "text/plain": [
       "'Mehmet Cengiz Kemal'"
      ]
     },
     "execution_count": 40,
     "metadata": {},
     "output_type": "execute_result"
    }
   ],
   "source": [
    "\" \".join(firstnames)"
   ]
  },
  {
   "cell_type": "code",
   "execution_count": 41,
   "metadata": {
    "collapsed": false
   },
   "outputs": [
    {
     "name": "stdout",
     "output_type": "stream",
     "text": [
      "Ekinci, Mehmet Cengiz Kemal\n"
     ]
    }
   ],
   "source": [
    "print(lastname+\", \"+ \" \".join(firstnames))"
   ]
  },
  {
   "cell_type": "markdown",
   "metadata": {},
   "source": [
    "Now we're ready to apply this to each line of the file."
   ]
  },
  {
   "cell_type": "markdown",
   "metadata": {},
   "source": [
    "## Process each line and dump to output file"
   ]
  },
  {
   "cell_type": "code",
   "execution_count": 17,
   "metadata": {
    "collapsed": false
   },
   "outputs": [],
   "source": [
    "fin = open(\"contacts.txt\")\n",
    "fout = open(\"output.txt\",\"w\")\n",
    "for line in fin:\n",
    "    fullname, phone, email = line.split(\",\")\n",
    "    lastname = fullname.split()[-1]\n",
    "    firstname = \" \".join(fullname.split()[:-1])\n",
    "    fout.write(lastname + \", \" + firstname + \"\\n\")\n",
    "    fout.write(\"Phone: \" + phone + \"\\n\")\n",
    "    fout.write(\"e-mail: \" + email.strip() + \"\\n\")\n",
    "    fout.write(\"\\n\")  # blank line\n",
    "fin.close()\n",
    "fout.close()"
   ]
  },
  {
   "cell_type": "markdown",
   "metadata": {},
   "source": [
    "Check:"
   ]
  },
  {
   "cell_type": "code",
   "execution_count": 18,
   "metadata": {
    "collapsed": false
   },
   "outputs": [
    {
     "name": "stdout",
     "output_type": "stream",
     "text": [
      "Demirci, A. Meral\r\n",
      "Phone: (216) 373 81 94\r\n",
      "e-mail: meral@demirci.com\r\n",
      "\r\n",
      "Potter, Harry\r\n",
      "Phone: (532) 532 5325\r\n",
      "e-mail: potter@hogwarts.edu\r\n",
      "\r\n",
      "Ekinci, Mehmet Cengiz Kemal\r\n",
      "Phone: (216) 123 45 67\r\n",
      "e-mail: mcke@yahoo.com\r\n",
      "\r\n"
     ]
    }
   ],
   "source": [
    "%cat output.txt"
   ]
  },
  {
   "cell_type": "markdown",
   "metadata": {},
   "source": [
    "(N.B.: The `%cat` command is a Jupyter command, not part of standard Python.)"
   ]
  },
  {
   "cell_type": "code",
   "execution_count": null,
   "metadata": {
    "collapsed": true
   },
   "outputs": [],
   "source": []
  }
 ],
 "metadata": {
  "anaconda-cloud": {},
  "kernelspec": {
   "display_name": "Python [conda env:py3]",
   "language": "python",
   "name": "conda-env-py3-py"
  },
  "language_info": {
   "codemirror_mode": {
    "name": "ipython",
    "version": 3
   },
   "file_extension": ".py",
   "mimetype": "text/x-python",
   "name": "python",
   "nbconvert_exporter": "python",
   "pygments_lexer": "ipython3",
   "version": "3.5.2"
  }
 },
 "nbformat": 4,
 "nbformat_minor": 1
}
