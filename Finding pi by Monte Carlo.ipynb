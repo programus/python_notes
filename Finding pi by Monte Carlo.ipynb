{
 "cells": [
  {
   "cell_type": "markdown",
   "metadata": {},
   "source": [
    "# Determining the value of Pi using Monte Carlo simulation"
   ]
  },
  {
   "cell_type": "markdown",
   "metadata": {},
   "source": [
    "## The Problem"
   ]
  },
  {
   "cell_type": "markdown",
   "metadata": {},
   "source": [
    "A slow but simple way to determine the value of pi is to use Monte Carlo simulation. Suppose we have a square with sizes of length 2. A circle is inscribed into it, touching the sides of the square from the inside. The circle has radius 1, and area $\\pi$. The square has area 4.\n",
    "\n",
    "We generate pairs of random numbers, uniformliy distributed between -1 and 1, corresponding to the points on the square. Some of them hit the circle, some of them miss it. The probability of hitting the circle is $\\pi/4$. So if we generate a lot of random numbers, we can estimate the value of $\\pi$."
   ]
  },
  {
   "cell_type": "markdown",
   "metadata": {},
   "source": [
    "## The approach"
   ]
  },
  {
   "cell_type": "markdown",
   "metadata": {},
   "source": [
    "Write a function that takes the number of random points as input, and returns the estimated value for $\\pi$."
   ]
  },
  {
   "cell_type": "markdown",
   "metadata": {},
   "source": [
    "Use the `uniform` function from the built-in `random` library."
   ]
  },
  {
   "cell_type": "code",
   "execution_count": 1,
   "metadata": {
    "collapsed": true
   },
   "outputs": [],
   "source": [
    "from random import uniform"
   ]
  },
  {
   "cell_type": "markdown",
   "metadata": {},
   "source": [
    "Generate one random number in (-1,1)."
   ]
  },
  {
   "cell_type": "code",
   "execution_count": 2,
   "metadata": {},
   "outputs": [
    {
     "data": {
      "text/plain": [
       "-0.46223249257731935"
      ]
     },
     "execution_count": 2,
     "metadata": {},
     "output_type": "execute_result"
    }
   ],
   "source": [
    "uniform(-1,1) "
   ]
  },
  {
   "cell_type": "markdown",
   "metadata": {},
   "source": [
    "Check success"
   ]
  },
  {
   "cell_type": "code",
   "execution_count": 3,
   "metadata": {},
   "outputs": [
    {
     "name": "stdout",
     "output_type": "stream",
     "text": [
      "Inside the circle\n"
     ]
    }
   ],
   "source": [
    "x = uniform(-1,1)\n",
    "y = uniform(-1,1)\n",
    "if x**2 + y**2 < 1:\n",
    "    print(\"Inside the circle\")\n",
    "else:\n",
    "    print(\"Outside the circle\")"
   ]
  },
  {
   "cell_type": "code",
   "execution_count": 4,
   "metadata": {},
   "outputs": [
    {
     "name": "stdout",
     "output_type": "stream",
     "text": [
      "Inside the circle\n",
      "Outside the circle\n",
      "Inside the circle\n",
      "Inside the circle\n",
      "Inside the circle\n",
      "Inside the circle\n",
      "Inside the circle\n",
      "Outside the circle\n",
      "Inside the circle\n",
      "Inside the circle\n"
     ]
    }
   ],
   "source": [
    "for i in range(10):\n",
    "    x = uniform(-1,1)\n",
    "    y = uniform(-1,1)\n",
    "    if x**2 + y**2 < 1:\n",
    "        print(\"Inside the circle\")\n",
    "    else:\n",
    "        print(\"Outside the circle\")"
   ]
  },
  {
   "cell_type": "markdown",
   "metadata": {},
   "source": [
    "Count the hits and print the final average"
   ]
  },
  {
   "cell_type": "code",
   "execution_count": 5,
   "metadata": {},
   "outputs": [
    {
     "data": {
      "text/plain": [
       "0.79"
      ]
     },
     "execution_count": 5,
     "metadata": {},
     "output_type": "execute_result"
    }
   ],
   "source": [
    "trials = 1000\n",
    "hits = 0\n",
    "for i in range(trials):\n",
    "    x = uniform(-1,1)\n",
    "    y = uniform(-1,1)\n",
    "    if x**2 + y**2 < 1:\n",
    "        hits += 1\n",
    "hits / trials"
   ]
  },
  {
   "cell_type": "markdown",
   "metadata": {},
   "source": [
    "Convert into a function"
   ]
  },
  {
   "cell_type": "code",
   "execution_count": 6,
   "metadata": {
    "collapsed": true
   },
   "outputs": [],
   "source": [
    "def estimate_pi(trials):\n",
    "    hits = 0\n",
    "    for i in range(trials):\n",
    "        x = uniform(-1,1)\n",
    "        y = uniform(-1,1)\n",
    "        if x**2 + y**2 < 1:\n",
    "            hits += 1\n",
    "    return 4.0 * hits / trials"
   ]
  },
  {
   "cell_type": "code",
   "execution_count": 7,
   "metadata": {},
   "outputs": [
    {
     "data": {
      "text/plain": [
       "3.176"
      ]
     },
     "execution_count": 7,
     "metadata": {},
     "output_type": "execute_result"
    }
   ],
   "source": [
    "estimate_pi(1000)"
   ]
  },
  {
   "cell_type": "code",
   "execution_count": 8,
   "metadata": {},
   "outputs": [
    {
     "name": "stdout",
     "output_type": "stream",
     "text": [
      "With 10000  trials, the estimated pi is 3.1632\n",
      "With 50000  trials, the estimated pi is 3.13664\n",
      "With 100000  trials, the estimated pi is 3.14276\n",
      "With 500000  trials, the estimated pi is 3.137424\n",
      "With 1000000  trials, the estimated pi is 3.141444\n"
     ]
    }
   ],
   "source": [
    "for trials in [10000, 50000, 100000, 500000, 1000000]:\n",
    "    print(\"With\", trials,\" trials, the estimated pi is\", estimate_pi(trials))"
   ]
  },
  {
   "cell_type": "markdown",
   "metadata": {},
   "source": [
    "As we see, this is not a very efficient way to estimate $\\pi$. It converges too slowly."
   ]
  }
 ],
 "metadata": {
  "anaconda-cloud": {},
  "kernelspec": {
   "display_name": "Python 3",
   "language": "python",
   "name": "python3"
  },
  "language_info": {
   "codemirror_mode": {
    "name": "ipython",
    "version": 3
   },
   "file_extension": ".py",
   "mimetype": "text/x-python",
   "name": "python",
   "nbconvert_exporter": "python",
   "pygments_lexer": "ipython3",
   "version": "3.6.3"
  }
 },
 "nbformat": 4,
 "nbformat_minor": 1
}
